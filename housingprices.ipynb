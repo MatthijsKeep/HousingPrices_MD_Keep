{
 "cells": [
  {
   "cell_type": "code",
   "execution_count": 3,
   "metadata": {
    "collapsed": true,
    "pycharm": {
     "name": "#%%\n",
     "is_executing": false
    }
   },
   "outputs": [],
   "source": [
    "import pandas as pd\n",
    "import numpy as np\n",
    "import matplotlib.pyplot as plt\n",
    "import seaborn as sns"
   ]
  },
  {
   "cell_type": "code",
   "execution_count": 50,
   "outputs": [],
   "source": [
    "from sklearn.model_selection import train_test_split"
   ],
   "metadata": {
    "collapsed": false,
    "pycharm": {
     "name": "#%%\n",
     "is_executing": false
    }
   }
  },
  {
   "cell_type": "code",
   "execution_count": 60,
   "outputs": [
    {
     "name": "stdout",
     "text": [
      "Id                 int64\nMSSubClass         int64\nMSZoning          object\nLotFrontage      float64\nLotArea            int64\nStreet            object\nAlley             object\nLotShape          object\nLandContour       object\nUtilities         object\nLotConfig         object\nLandSlope         object\nNeighborhood      object\nCondition1        object\nCondition2        object\nBldgType          object\nHouseStyle        object\nOverallQual        int64\nOverallCond        int64\nYearBuilt          int64\nYearRemodAdd       int64\nRoofStyle         object\nRoofMatl          object\nExterior1st       object\nExterior2nd       object\nMasVnrType        object\nMasVnrArea       float64\nExterQual         object\nExterCond         object\nFoundation        object\n                  ...   \nBedroomAbvGr       int64\nKitchenAbvGr       int64\nKitchenQual       object\nTotRmsAbvGrd       int64\nFunctional        object\nFireplaces         int64\nFireplaceQu       object\nGarageType        object\nGarageYrBlt      float64\nGarageFinish      object\nGarageCars         int64\nGarageArea         int64\nGarageQual        object\nGarageCond        object\nPavedDrive        object\nWoodDeckSF         int64\nOpenPorchSF        int64\nEnclosedPorch      int64\n3SsnPorch          int64\nScreenPorch        int64\nPoolArea           int64\nPoolQC            object\nFence             object\nMiscFeature       object\nMiscVal            int64\nMoSold             int64\nYrSold             int64\nSaleType          object\nSaleCondition     object\nSalePrice          int64\nLength: 81, dtype: object\n"
     ],
     "output_type": "stream"
    }
   ],
   "source": [
    "housingPrices = pd.read_csv(\"train.csv\")\n",
    "print(housingPrices.dtypes)"
   ],
   "metadata": {
    "collapsed": false,
    "pycharm": {
     "name": "#%%\n",
     "is_executing": false
    }
   }
  },
  {
   "cell_type": "code",
   "execution_count": 61,
   "outputs": [],
   "source": [
    "X, y = housingPrices[housingPrices.columns[:-1]], housingPrices[housingPrices.columns[-1:]]\n",
    "X_train, X_test, y_train, y_test = train_test_split(X, y, test_size=0.1, random_state=420)"
   ],
   "metadata": {
    "collapsed": false,
    "pycharm": {
     "name": "#%%\n",
     "is_executing": false
    }
   }
  },
  {
   "cell_type": "code",
   "execution_count": 63,
   "outputs": [
    {
     "name": "stdout",
     "text": [
      "1314 146 1314 146\nSalePrice        1.000000\nOverallQual      0.790982\nGrLivArea        0.708624\nGarageCars       0.640409\nGarageArea       0.623431\nTotalBsmtSF      0.613581\n1stFlrSF         0.605852\nFullBath         0.560664\nTotRmsAbvGrd     0.533723\nYearBuilt        0.522897\nYearRemodAdd     0.507101\nGarageYrBlt      0.486362\nMasVnrArea       0.477493\nFireplaces       0.466929\nBsmtFinSF1       0.386420\nLotFrontage      0.351799\nWoodDeckSF       0.324413\n2ndFlrSF         0.319334\nOpenPorchSF      0.315856\nHalfBath         0.284108\nLotArea          0.263843\nBsmtFullBath     0.227122\nBsmtUnfSF        0.214479\nBedroomAbvGr     0.168213\nScreenPorch      0.111447\nPoolArea         0.092404\nMoSold           0.046432\n3SsnPorch        0.044584\nBsmtFinSF2      -0.011378\nBsmtHalfBath    -0.016844\nMiscVal         -0.021190\nId              -0.021917\nLowQualFinSF    -0.025606\nYrSold          -0.028923\nOverallCond     -0.077856\nMSSubClass      -0.084284\nEnclosedPorch   -0.128578\nKitchenAbvGr    -0.135907\nName: SalePrice, dtype: float64\n"
     ],
     "output_type": "stream"
    }
   ],
   "source": [
    "print(len(X_train), len(X_test), len(y_train), len(y_test))\n",
    "# use correlations to find relevant variables. See what we want to use\n",
    "# print(housingPrices[housingPrices.columns].corr()['SalePrice'][:].sort_values(ascending=False))"
   ],
   "metadata": {
    "collapsed": false,
    "pycharm": {
     "name": "#%%\n",
     "is_executing": false
    }
   }
  },
  {
   "cell_type": "code",
   "execution_count": null,
   "outputs": [],
   "source": [
    "\n",
    "\n",
    "\n",
    "\n",
    "\n",
    "\n",
    "\n",
    "\n"
   ],
   "metadata": {
    "collapsed": false,
    "pycharm": {
     "name": "#%%\n"
    }
   }
  }
 ],
 "metadata": {
  "kernelspec": {
   "display_name": "Python 3",
   "language": "python",
   "name": "python3"
  },
  "language_info": {
   "codemirror_mode": {
    "name": "ipython",
    "version": 2
   },
   "file_extension": ".py",
   "mimetype": "text/x-python",
   "name": "python",
   "nbconvert_exporter": "python",
   "pygments_lexer": "ipython2",
   "version": "2.7.6"
  },
  "pycharm": {
   "stem_cell": {
    "cell_type": "raw",
    "source": [],
    "metadata": {
     "collapsed": false
    }
   }
  }
 },
 "nbformat": 4,
 "nbformat_minor": 1
}